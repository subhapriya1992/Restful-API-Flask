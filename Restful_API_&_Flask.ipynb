{
  "nbformat": 4,
  "nbformat_minor": 0,
  "metadata": {
    "colab": {
      "provenance": []
    },
    "kernelspec": {
      "name": "python3",
      "display_name": "Python 3"
    },
    "language_info": {
      "name": "python"
    }
  },
  "cells": [
    {
      "cell_type": "code",
      "source": [],
      "metadata": {
        "id": "gGeUmnu5BOc3"
      },
      "execution_count": null,
      "outputs": []
    },
    {
      "cell_type": "markdown",
      "source": [
        "1. What is a RESTful API?\n",
        "- A RESTful API (Representational State Transfer Application Programming Interface) is a web service that follows the principles of REST, an architectural style designed for scalable and simple communication over the web, especially using HTTP.\n",
        "\n",
        "2. Explain the concept of API specification.\n",
        "- An API specification is a detailed, formal description of how an API behaves — it defines exactly what the API can do, how to interact with it, and what to expect in return.\n",
        "Think of it like the blueprint or contract between the API provider and its consumers. It ensures that both sides know how to communicate without ambiguity.\n",
        "\n",
        "3. What is Flask, and why is it popular for building APIs?\n",
        "- Flask is a lightweight, open-source Python web framework used to build web applications and APIs. It's known for being simple, minimalistic, and flexible, making it a popular choice for developers who want control over how they structure their apps.\n",
        "\n",
        "4. What is routing in Flask?\n",
        "- Routing in Flask is the process of mapping URLs (web addresses) to specific functions in your Python code — these functions are called view functions or route handlers.\n",
        "\n",
        "In simple terms\n",
        "A route defines what should happen when a user accesses a specific URL.\n",
        "\n",
        "5. How do you create a simple Flask application?\n",
        "- Step 1 : Install Flask\n",
        "Make sure you have Python installed. Then install Flask using pip:\n",
        "\n",
        "Step 2: Create Your App File\n",
        "Create a file called app.py (you can name it anything, but this is common).\n",
        "\n",
        "Step 3: Run the Application\n",
        "In the terminal, navigate to the folder where app.py is located, and run:\n",
        "\n",
        "6. What are HTTP methods used in RESTful APIs?\n",
        "- RESTful APIs use standard HTTP methods to perform operations on resources (like users, products, etc.). Each method has a specific purpose and corresponds to an action.\n",
        "\n",
        "Method\t  Purpose\t           Typical Usage\n",
        "GET\t      Read data\t         Fetch a resource or list\n",
        "POST\t    Create new data\t   Add a new resource\n",
        "PUT\t      Update data\t       Replace an existing resource\n",
        "\n",
        "7. What is the purpose of the @app.route() decorator in Flask?\n",
        "- The @app.route() decorator in Flask is used to associate a specific URL (route) with a Python function (called a view function).\n",
        "\n",
        "It tells Flask:\n",
        "“When a user accesses this URL, run this function and return the result.”\n",
        "\n",
        "It connects URLs to Python functions, letting Flask know what to do when a specific page or endpoint is requested.\n",
        "\n",
        "8. What is the difference between GET and POST HTTP methods?\n",
        "- GET and POST are two of the most commonly used HTTP methods in RESTful APIs and web development. They serve different purposes and behave differently in terms of how data is handled.\n",
        "GET Example\n",
        "Gets user information\n",
        "\n",
        "POST Example\n",
        "Sends data to create a new user\n",
        "Data is in the request body\n",
        "\n",
        "9. How do you handle errors in Flask APIs?\n",
        "- Error handling in Flask APIs is crucial for providing clear, consistent, and secure responses when something goes wrong — like a missing resource, invalid input, or server issue.\n",
        "from flask import Flask, jsonify\n",
        "\n",
        "app = Flask(__name__)\n",
        "\n",
        "@app.errorhandler(404)\n",
        "def not_found(e):\n",
        "    return jsonify(error=\"Resource not found\"), 404\n",
        "\n",
        "@app.errorhandler(500)\n",
        "def internal_error(e):\n",
        "    return jsonify(error=\"Internal server error\"), 500\n",
        "\n",
        "10. How do you connect Flask to a SQL database?\n",
        "- Step\tDescription\n",
        "Install packages\tpip install flask flask-sqlalchemy\n",
        "Configure DB\tSet SQLALCHEMY_DATABASE_URI\n",
        "Define models\tCreate classes that inherit from db.Model\n",
        "Create tables\tUse db.create_all() inside app context\n",
        "Query / insert data\tUse SQLAlchemy ORM methods\n",
        "\n",
        "11. What is the role of Flask-SQLAlchemy?\n",
        "- Flask-SQLAlchemy is a Flask extension that integrates SQLAlchemy (a powerful Python SQL toolkit and Object Relational Mapper, or ORM) with Flask.\n",
        "It makes it easier to connect your Flask app to a SQL database, define database models in Python, and interact with the database using high-level Python code instead of raw SQL.\n",
        "\n",
        "12. What are Flask blueprints, and how are they useful?\n",
        "- Flask Blueprints are a way to organize your Flask application into modular, reusable components.\n",
        "Think of a Blueprint as a mini Flask application — it contains its own routes, templates, static files, and more, and can be registered inside a main app.\n",
        "As your Flask app grows, keeping all your routes and logic in a single file becomes messy. Blueprints solve this by helping you.\n",
        "\n",
        "13. What is the purpose of Flask's request object?\n",
        "- The request object in Flask is used to access data sent by the client (e.g., a browser or API consumer) to your Flask server.\n",
        "\n",
        "It gives you a convenient way to retrieve:\n",
        "Type of Data\t        Description\n",
        "Query parameters\t    URL parameters like /search?q=flask Form data\t            Data submitted via an HTML form (POST)\n",
        "JSON data\t            JSON sent in an API request body\n",
        "\n",
        "14. How do you create a RESTful API endpoint using Flask?\n",
        "- Creating RESTful API endpoints with Flask is simple and flexible. You define routes that respond to HTTP methods like GET, POST, PUT, and DELETE, and use JSON to send/receive data.\n",
        "\n",
        "15. What is the purpose of Flask's jsonify() function?\n",
        "- The jsonify() function in Flask is used to convert Python data structures (like dictionaries or lists) into a JSON-formatted HTTP response.\n",
        "\n",
        "16. Explain Flask's url_for() function.\n",
        "- url_for() is a very handy Flask function that builds URLs for your routes dynamically based on the name of the view function instead of hardcoding URLs.\n",
        "Avoid hardcoding URLs — helps prevent broken links if you change route paths later.\n",
        "\n",
        "17. How does Flask handle static files (CSS, JavaScript, etc.)?\n",
        "- Flask provides a straightforward mechanism for handling static files such as CSS stylesheets, JavaScript files, images, and other resources that are served directly to the client's browser without dynamic processing.\n",
        "\n",
        "The static Folder:\n",
        "By convention, Flask expects static files to be located in a folder named static within your application's root directory.\n",
        "You can create subfolders within static to organize your files further (e.g., static/css, static/js, static/img).\n",
        "\n",
        "18. What is an API specification, and how does it help in building a Flask API?\n",
        "- An API specification is a formal document or blueprint that describes how an API works — detailing its endpoints, request/response formats, parameters, authentication, error codes, and more.\n",
        "\n",
        "How Does It Help in Building a Flask API?\n",
        "Design First Approach:\n",
        "Before coding, define endpoints, methods, inputs, outputs, and error responses.\n",
        "Consistency:\n",
        "Follow the spec while writing routes, request handling, and responses — ensures API behaves as expected.\n",
        "\n",
        "19. What are HTTP status codes, and why are they important in a Flask API?\n",
        "- HTTP status codes are standardized 3-digit numbers sent by a server in response to a client's HTTP request. They indicate the result of the request — whether it was successful, failed, or needs further action.\n",
        "\n",
        "Why Are HTTP Status Codes Important in a Flask API?\n",
        "Communicate Outcome Clearly\n",
        "They tell API clients if the request was successful (200 OK), if something was created (201 Created), or if there was an error like 404 Not Found.\n",
        "Enable Proper Client Handling\n",
        "Clients can react accordingly: retry on server errors, prompt users on bad requests, or redirect on resource moves.\n",
        "\n",
        "20. How do you handle POST requests in Flask?\n",
        "- 1. Define a route with methods=['POST']\n",
        " 2. Access the incoming data\n",
        " 3. Example: Full minimal app handling POST with JSON\n",
        " 4. Testing a POST request\n",
        "\n",
        "21. How would you secure a Flask API?\n",
        "- 1. Use HTTPS (SSL/TLS)\n",
        "Always serve your API over HTTPS to encrypt data between client and server.\n",
        "2. Authentication\n",
        "Require clients to prove their identity.\n",
        "3. Authorization\n",
        "Control what authenticated users can do (roles, permissions).\n",
        "4. Input Validation & Sanitization\n",
        "Validate incoming data to prevent injection attacks.\n",
        "5. Rate Limiting\n",
        "Prevent abuse and denial-of-service attacks by limiting the number of requests a client can make.\n",
        "6. CORS (Cross-Origin Resource Sharing)\n",
        "Control which domains can access your API.\n",
        "7. Hide Sensitive Information\n",
        "Don't expose detailed error messages or stack traces to clients.\n",
        "8. Secure Headers\n",
        "Use libraries like Flask-Talisman to set security-related HTTP headers (Content Security Policy, HSTS, etc.).\n",
        "9. Keep Dependencies Updated\n",
        "Regularly update Flask and related packages to patch vulnerabilities.\n",
        "\n",
        "22. What is the significance of the Flask-RESTful extension?\n",
        "- Flask-RESTful is a Flask extension that simplifies the creation of RESTful APIs by providing a cleaner, more structured way to define routes and handle HTTP methods.\n",
        "\n",
        "Flask on its own is flexible but minimal. Flask-RESTful adds structure and power to help you build APIs faster and more maintainably.\n",
        "\n",
        "23. What is the role of Flask's session object?\n",
        "- Flask's session object is used to store data across multiple requests from the same user. It allows your app to remember information between requests, which is essential for features like login sessions, shopping carts, or user preferences."
      ],
      "metadata": {
        "id": "8q2OtCNRb62F"
      }
    },
    {
      "cell_type": "code",
      "source": [
        "#1. How do you create a basic Flask application?\n",
        "    from flask import Flask\n",
        "\n",
        "    app = Flask(__name__)\n",
        "\n",
        "    @app.route('/')\n",
        "    def hello_world():\n",
        "        return 'Hello, World!'\n",
        "\n",
        "    if __name__ == '__main__':\n",
        "        app.run(debug=True)"
      ],
      "metadata": {
        "id": "-DTtn_JEe9R1"
      },
      "execution_count": null,
      "outputs": []
    },
    {
      "cell_type": "code",
      "source": [
        "#2. How do you serve static files like images or CSS in Flask?\n",
        "from flask import Flask, send_from_directory\n",
        "\n",
        "app = Flask(__name__)\n",
        "\n",
        "@app.route('/assets/<path:filename>')\n",
        "def custom_static(filename):\n",
        "    return send_from_directory('static', filename)"
      ],
      "metadata": {
        "id": "0lV0r4shCIlm"
      },
      "execution_count": 5,
      "outputs": []
    },
    {
      "cell_type": "code",
      "source": [
        "#3. How do you define different routes with different HTTP methods in Flask?\n",
        "\n",
        "from flask import Flask, request, jsonify\n",
        "\n",
        "app = Flask(__name__)\n",
        "\n",
        "# GET route\n",
        "@app.route('/hello', methods=['GET'])\n",
        "def hello():\n",
        "    return \"Hello, World!\"\n",
        "\n",
        "# POST route\n",
        "@app.route('/submit', methods=['POST'])\n",
        "def submit():\n",
        "    data = request.get_json()\n",
        "    return jsonify({\"message\": \"Data received\", \"data\": data}), 201\n",
        "\n",
        "# Route that handles both GET and POST\n",
        "@app.route('/user', methods=['GET', 'POST'])\n",
        "def user():\n",
        "    if request.method == 'POST':\n",
        "        user_data = request.get_json()\n",
        "        return jsonify({\"status\": \"User created\", \"user\": user_data}), 201\n",
        "    else:\n",
        "        return jsonify({\"status\": \"User info\", \"user\": \"Sample user\"})\n",
        "\n",
        "# PUT route\n",
        "@app.route('/update/<int:item_id>', methods=['PUT'])\n",
        "def update(item_id):\n",
        "    data = request.get_json()\n",
        "    return jsonify({\"message\": f\"Item {item_id} updated\", \"new_data\": data})\n",
        "\n",
        "# DELETE route\n",
        "@app.route('/delete/<int:item_id>', methods=['DELETE'])\n",
        "def delete(item_id):\n",
        "    return jsonify({\"message\": f\"Item {item_id} deleted\"}), 200\n",
        "\n",
        "if __name__ == '__main__':\n",
        "    app.run(debug=True)\n"
      ],
      "metadata": {
        "colab": {
          "base_uri": "https://localhost:8080/"
        },
        "id": "3L_W9gnsD7FK",
        "outputId": "18c57c0e-6b57-4b0b-8108-08e74993f938"
      },
      "execution_count": null,
      "outputs": [
        {
          "output_type": "stream",
          "name": "stdout",
          "text": [
            " * Serving Flask app '__main__'\n",
            " * Debug mode: on\n"
          ]
        },
        {
          "output_type": "stream",
          "name": "stderr",
          "text": [
            "INFO:werkzeug:\u001b[31m\u001b[1mWARNING: This is a development server. Do not use it in a production deployment. Use a production WSGI server instead.\u001b[0m\n",
            " * Running on http://127.0.0.1:5000\n",
            "INFO:werkzeug:\u001b[33mPress CTRL+C to quit\u001b[0m\n",
            "INFO:werkzeug: * Restarting with watchdog (inotify)\n"
          ]
        }
      ]
    },
    {
      "cell_type": "code",
      "source": [
        "#4. How do you render HTML templates in Flask?\n",
        "    # app.py\n",
        "    app = Flask(__name__)\n",
        "\n",
        "    @app.route('/')\n",
        "    def home():\n",
        "        return render_template('index.html', title='My Flask App', name='World')\n",
        "\n",
        "    if __name__ == '__main__':\n",
        "        app.run(debug=True)"
      ],
      "metadata": {
        "id": "2XOwzjzGETLz"
      },
      "execution_count": null,
      "outputs": []
    },
    {
      "cell_type": "code",
      "source": [
        "#5. How can you generate URLs for routes in Flask using url_for?\n",
        "from flask import Flask, url_for\n",
        "\n",
        "app = Flask(__name__)\n",
        "\n",
        "@app.route('/')\n",
        "def home():\n",
        "    return \"Home Page\"\n",
        "\n",
        "@app.route('/user/<username>')\n",
        "def profile(username):\n",
        "    return f\"User: {username}\"\n",
        "\n",
        "with app.test_request_context():\n",
        "    print(url_for('home'))\n",
        "    print(url_for('profile', username='alice'))\n"
      ],
      "metadata": {
        "id": "ncSUho8JFUMe"
      },
      "execution_count": null,
      "outputs": []
    },
    {
      "cell_type": "code",
      "source": [
        "#6. How do you handle forms in Flask?\n",
        "from flask import Flask, render_template, request\n",
        "\n",
        "app = Flask(__name__)\n",
        "\n",
        "@app.route('/submit', methods=['GET', 'POST'])\n",
        "def submit():\n",
        "    if request.method == 'POST':\n",
        "        name = request.form.get('name')\n",
        "        email = request.form.get('email')\n",
        "        return f'Thank you, {name}. Your email {email} was received.'\n",
        "    return render_template('form.html')\n",
        "\n",
        "if __name__ == '__main__':\n",
        "    app.run(debug=True)\n",
        "\n"
      ],
      "metadata": {
        "id": "t3hmdTUgGjj9"
      },
      "execution_count": null,
      "outputs": []
    },
    {
      "cell_type": "code",
      "source": [
        "#7. How can you validate form data in Flask?\n",
        "from flask import Flask, request, render_template_string\n",
        "\n",
        "app = Flask(__name__)\n",
        "\n",
        "@app.route('/submit', methods=['GET', 'POST'])\n",
        "def submit():\n",
        "    errors = []\n",
        "    if request.method == 'POST':\n",
        "        name = request.form.get('name', '').strip()\n",
        "        email = request.form.get('email', '').strip()\n",
        "\n",
        "        # Basic validation\n",
        "        if not name:\n",
        "            errors.append('Name is required.')\n",
        "        if not email:\n",
        "            errors.append('Email is required.')\n",
        "        elif '@' not in email:\n",
        "            errors.append('Email must be valid.')\n",
        "\n",
        "        if not errors:\n",
        "            return f'Thank you, {name}. Your email {email} was received.'\n",
        "\n",
        "    return render_template_string('''\n",
        "        <form method=\"POST\">\n",
        "            Name: <input type=\"text\" name=\"name\"><br>\n",
        "            Email: <input type=\"email\" name=\"email\"><br>\n",
        "            <input type=\"submit\" value=\"Submit\">\n",
        "        </form>\n",
        "        {% if errors %}\n",
        "            <ul>\n",
        "            {% for error in errors %}\n",
        "                <li style=\"color:red;\">{{ error }}</li>\n",
        "            {% endfor %}\n",
        "            </ul>\n",
        "        {% endif %}\n",
        "    ''', errors=errors)\n",
        "\n",
        "if __name__ == '__main__':\n",
        "    app.run(debug=True)\n"
      ],
      "metadata": {
        "id": "b009h_gjHnQ2"
      },
      "execution_count": null,
      "outputs": []
    },
    {
      "cell_type": "code",
      "source": [
        "#8. How do you manage sessions in Flask?\n",
        "\n",
        "from flask import Flask, session, redirect, url_for, request\n",
        "\n",
        "app = Flask(__name__)\n",
        "app.secret_key = 'supersecretkey'\n",
        "\n",
        "@app.route('/')\n",
        "def index():\n",
        "    if 'username' in session:\n",
        "        return f'Logged in as {session[\"username\"]}'\n",
        "    return 'You are not logged in'\n",
        "\n",
        "@app.route('/login', methods=['GET', 'POST'])\n",
        "def login():\n",
        "    if request.method == 'POST':\n",
        "        session['username'] = request.form['username']\n",
        "        return redirect(url_for('index'))\n",
        "    return '''\n",
        "        <form method=\"post\">\n",
        "            Username: <input type=\"text\" name=\"username\">\n",
        "            <input type=\"submit\" value=\"Login\">\n",
        "        </form>\n",
        "    '''\n",
        "\n",
        "@app.route('/logout')\n",
        "def logout():\n",
        "    session.pop('username', None)\n",
        "    return redirect(url_for('index'))\n",
        "\n",
        "if __name__ == '__main__':\n",
        "    app.run(debug=True)\n"
      ],
      "metadata": {
        "id": "ow-YOm5eICNd"
      },
      "execution_count": null,
      "outputs": []
    },
    {
      "cell_type": "code",
      "source": [
        "#9. How do you redirect to a different route in Flask?\n",
        "from flask import Flask, redirect, url_for\n",
        "\n",
        "app = Flask(__name__)\n",
        "\n",
        "@app.route('/')\n",
        "def home():\n",
        "    return 'This is the home page'\n",
        "\n",
        "@app.route('/go-to-home')\n",
        "def go_to_home():\n",
        "    return redirect(url_for('home'))\n",
        "\n",
        "if __name__ == '__main__':\n",
        "    app.run(debug=True)\n",
        "\n"
      ],
      "metadata": {
        "id": "Z62wXsQXIXbN"
      },
      "execution_count": null,
      "outputs": []
    },
    {
      "cell_type": "code",
      "source": [
        "#10.  How do you handle errors in Flask (e.g., 404)?\n",
        "from flask import Flask, render_template\n",
        "\n",
        "app = Flask(__name__)\n",
        "\n",
        "@app.errorhandler(404)\n",
        "def page_not_found(e):\n",
        "    return render_template('404.html'), 404\n",
        "\n",
        "@app.route('/')\n",
        "def index():\n",
        "    return \"Welcome to the homepage!\"\n",
        "\n",
        "if __name__ == '__main__':\n",
        "    app.run(debug=True)\n"
      ],
      "metadata": {
        "id": "T1fck5eFIoh3"
      },
      "execution_count": null,
      "outputs": []
    },
    {
      "cell_type": "code",
      "source": [
        "#11. How do you structure a Flask app using Blueprints?\n",
        "from flask import Blueprint\n",
        "\n",
        "auth_bp = Blueprint('auth', __name__)\n",
        "\n",
        "from . import routes\n"
      ],
      "metadata": {
        "id": "bTxjw3lzJEZR"
      },
      "execution_count": null,
      "outputs": []
    },
    {
      "cell_type": "code",
      "source": [
        "from flask import render_template\n",
        "from . import auth_bp\n",
        "\n",
        "@auth_bp.route('/login')\n",
        "def login():\n",
        "    return \"This is the login page\"\n"
      ],
      "metadata": {
        "id": "4MRJfGmsJw23"
      },
      "execution_count": null,
      "outputs": []
    },
    {
      "cell_type": "code",
      "source": [
        "from flask import Blueprint\n",
        "\n",
        "blog_bp = Blueprint('blog', __name__)\n",
        "\n",
        "from . import routes\n"
      ],
      "metadata": {
        "id": "fq4hiR4YJ0H7"
      },
      "execution_count": null,
      "outputs": []
    },
    {
      "cell_type": "code",
      "source": [
        "from flask import render_template\n",
        "from . import blog_bp\n",
        "\n",
        "@blog_bp.route('/')\n",
        "def blog_home():\n",
        "    return \"Welcome to the blog!\"\n"
      ],
      "metadata": {
        "id": "s_Mx7DDyJ3nV"
      },
      "execution_count": null,
      "outputs": []
    },
    {
      "cell_type": "code",
      "source": [
        "from flask import Flask\n",
        "\n",
        "app = Flask(__name__)\n",
        "\n",
        "# Import Blueprints\n",
        "from auth import auth_bp\n",
        "from blog import blog_bp\n",
        "\n",
        "# Register Blueprints with optional URL prefixes\n",
        "app.register_blueprint(auth_bp, url_prefix='/auth')\n",
        "app.register_blueprint(blog_bp, url_prefix='/blog')\n",
        "\n",
        "@app.route('/')\n",
        "def home():\n",
        "    return \"Welcome to the home page!\"\n",
        "\n",
        "if __name__ == '__main__':\n",
        "    app.run(debug=True)\n"
      ],
      "metadata": {
        "id": "oLuFf12dJ7FB"
      },
      "execution_count": null,
      "outputs": []
    },
    {
      "cell_type": "code",
      "source": [
        "#12. How do you define a custom Jinja filter in Flask?\n",
        "from flask import Flask, render_template_string\n",
        "\n",
        "app = Flask(__name__)\n",
        "\n",
        "@app.template_filter('reverse')\n",
        "def reverse_string(s):\n",
        "    return s[::-1]\n",
        "\n",
        "@app.route('/')\n",
        "def index():\n",
        "    return render_template_string('{{ \"Flask\" | reverse }}')\n",
        "\n",
        "if __name__ == '__main__':\n",
        "    app.run(debug=True)\n"
      ],
      "metadata": {
        "id": "UyMw-QgfJ9Q_"
      },
      "execution_count": null,
      "outputs": []
    },
    {
      "cell_type": "code",
      "source": [
        "#13. How can you redirect with query parameters in Flask?\n",
        "from flask import Flask, redirect\n",
        "\n",
        "app = Flask(__name__)\n",
        "\n",
        "@app.route('/manual-redirect')\n",
        "def manual_redirect():\n",
        "    target_url = '/search?query=flask&page=2'\n",
        "    return redirect(target_url)\n"
      ],
      "metadata": {
        "id": "isUB2H2eKTrY"
      },
      "execution_count": null,
      "outputs": []
    },
    {
      "cell_type": "code",
      "source": [
        "#14. How do you return JSON responses in Flask?\n",
        "from flask import Flask, jsonify\n",
        "\n",
        "app = Flask(__name__)\n",
        "\n",
        "@app.route('/api/data')\n",
        "def get_data():\n",
        "    data = {'name': 'Alice', 'age': 30}\n",
        "    return jsonify(data)\n",
        "\n"
      ],
      "metadata": {
        "id": "-r9opG3HdkIF"
      },
      "execution_count": null,
      "outputs": []
    },
    {
      "cell_type": "code",
      "source": [
        "#15. How do you capture URL parameters in Flask?\n",
        "from flask import Flask, request\n",
        "\n",
        "app = Flask(__name__)\n",
        "\n",
        "@app.route('/search')\n",
        "def search():\n",
        "    search_query = request.args.get('query')\n",
        "    page_number = request.args.get('page', default=1, type=int)\n",
        "\n",
        "    return f\"Searching for: {search_query}, Page: {page_number}\"\n",
        "\n",
        "if __name__ == '__main__':\n",
        "    app.run(debug=True)"
      ],
      "metadata": {
        "id": "0N_hU-2qeFSP"
      },
      "execution_count": null,
      "outputs": []
    },
    {
      "cell_type": "code",
      "source": [],
      "metadata": {
        "id": "6Mwy9Ss7eR4p"
      },
      "execution_count": null,
      "outputs": []
    }
  ]
}